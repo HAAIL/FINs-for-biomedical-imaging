{
 "cells": [
  {
   "cell_type": "code",
   "execution_count": 2,
   "id": "87c4ec1c",
   "metadata": {},
   "outputs": [],
   "source": [
    "import numpy as np"
   ]
  },
  {
   "cell_type": "code",
   "execution_count": 3,
   "id": "eca72556",
   "metadata": {},
   "outputs": [],
   "source": [
    "np.random.seed(1)"
   ]
  },
  {
   "cell_type": "code",
   "execution_count": 4,
   "id": "33ce6605",
   "metadata": {},
   "outputs": [],
   "source": [
    "def generate_random_topology(num_samples=100):\n",
    "    layer_sizes = [32, 64, 128, 256, 512, 1024]\n",
    "    learning_rates = [0.01, 1e-2, 1e-3, 1e-4, 1e-5, 1e-6, 1e-7, 1e-8, 1e-9]\n",
    "    momentums = [1e-5, 1e-6, 1e-7, 1e-8, 1e-9, 0]\n",
    "    b1_options = [0.94, 0.92, 0.90, 0.88, 0.86, 0.84, 0.82]\n",
    "    b2_options = [0.995, 0.99, 0.985, 0.98, 0.975, 0.97, 0.96, 0.95, 0.94]\n",
    "\n",
    "    topologies = []\n",
    "    for _ in range(num_samples):\n",
    "        num_layers = np.random.randint(2, 8)\n",
    "        layers = [{\n",
    "            'output_shape': np.random.choice(layer_sizes),\n",
    "            'activation': 'relu',\n",
    "            'BatchNorm': np.random.choice([True, False])\n",
    "        } for _ in range(num_layers)]\n",
    "\n",
    "        topology = {\n",
    "            'layers': layers,\n",
    "            'lr': np.random.choice(learning_rates),\n",
    "            'momentum': np.random.choice(momentums),\n",
    "            'nesterov': np.random.choice([True, False]),\n",
    "            'b1': np.random.choice(b1_options),\n",
    "            'b2': np.random.choice(b2_options)\n",
    "        }\n",
    "        topologies.append(topology)\n",
    "\n",
    "    return topologies\n",
    "\n",
    "# Generate the topologies\n",
    "topologies = generate_random_topology()"
   ]
  },
  {
   "cell_type": "code",
   "execution_count": 5,
   "id": "c3e528b7",
   "metadata": {},
   "outputs": [],
   "source": [
    "np.save('hyper_params.npy',generate_random_topology())"
   ]
  }
 ],
 "metadata": {
  "kernelspec": {
   "display_name": "Python 3",
   "language": "python",
   "name": "python3"
  },
  "language_info": {
   "codemirror_mode": {
    "name": "ipython",
    "version": 3
   },
   "file_extension": ".py",
   "mimetype": "text/x-python",
   "name": "python",
   "nbconvert_exporter": "python",
   "pygments_lexer": "ipython3",
   "version": "3.6.13"
  }
 },
 "nbformat": 4,
 "nbformat_minor": 5
}
